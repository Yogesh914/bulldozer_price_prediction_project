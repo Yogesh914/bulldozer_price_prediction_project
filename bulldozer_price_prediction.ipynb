{
 "cells": [
  {
   "cell_type": "markdown",
   "source": [
    "# Bulldozer Price Prediction\n",
    "\n",
    "In this notebook we use machine learning to predict the auction sale price for a piece of heavy equipment to create a \"blue book\" for bulldozers.\n",
    "\n",
    "## Problem\n",
    "\n",
    "> How well can we predict the future auction sale price of a bulldozer, using given characteristics and past examples of sale prices?\n",
    "\n",
    "## Data\n",
    "\n",
    "The data is from the Kaggle Bulldozers competition: https://www.kaggle.com/competitions/bluebook-for-bulldozers\n",
    "There are three main datasets:\n",
    "\n",
    "* Train.csv is the training set, which contains data through the end of 2011.\n",
    "* Valid.csv is the validation set, which contains data from January 1, 2012 - April 30, 2012 You make predictions on this set throughout the majority of the competition. Your score on this set is used to create the public leaderboard.\n",
    "* Test.csv is the test set, which won't be released until the last week of the competition. It contains data from May 1, 2012 - November 2012. Your score on the test set determines your final rank for the competition.\n",
    "\n",
    "## Evaluation\n",
    "\n",
    "RMSLE (root mean squared log error) between the actual and predicted auction prices\n",
    "\n",
    "## Features\n",
    "\n",
    "Data Dictionary - https://docs.google.com/spreadsheets/d/1n_fjuBkScmW8uWTuiVOo9zb7C8yodGf_R4t5SyFn410/edit?usp=sharing"
   ],
   "metadata": {
    "collapsed": false
   }
  },
  {
   "cell_type": "code",
   "execution_count": 102,
   "metadata": {
    "collapsed": true,
    "ExecuteTime": {
     "end_time": "2023-06-26T17:43:20.778456Z",
     "start_time": "2023-06-26T17:43:20.738683Z"
    }
   },
   "outputs": [],
   "source": [
    "import pandas as pd\n",
    "import numpy as np\n",
    "import matplotlib.pyplot as plt\n",
    "\n",
    "plt.style.use(\"seaborn-v0_8-dark\")\n",
    "\n",
    "from sklearn.ensemble import RandomForestRegressor"
   ]
  },
  {
   "cell_type": "markdown",
   "source": [
    "## Exploring Data"
   ],
   "metadata": {
    "collapsed": false
   }
  },
  {
   "cell_type": "code",
   "execution_count": 103,
   "outputs": [],
   "source": [
    "# importing training a validation set\n",
    "df = pd.read_csv(\"data/TrainAndValid.csv\", low_memory=False)"
   ],
   "metadata": {
    "collapsed": false,
    "ExecuteTime": {
     "end_time": "2023-06-26T17:43:22.624957Z",
     "start_time": "2023-06-26T17:43:20.742997Z"
    }
   }
  },
  {
   "cell_type": "code",
   "execution_count": 104,
   "outputs": [
    {
     "name": "stdout",
     "output_type": "stream",
     "text": [
      "<class 'pandas.core.frame.DataFrame'>\n",
      "RangeIndex: 412698 entries, 0 to 412697\n",
      "Data columns (total 53 columns):\n",
      " #   Column                    Non-Null Count   Dtype  \n",
      "---  ------                    --------------   -----  \n",
      " 0   SalesID                   412698 non-null  int64  \n",
      " 1   SalePrice                 412698 non-null  float64\n",
      " 2   MachineID                 412698 non-null  int64  \n",
      " 3   ModelID                   412698 non-null  int64  \n",
      " 4   datasource                412698 non-null  int64  \n",
      " 5   auctioneerID              392562 non-null  float64\n",
      " 6   YearMade                  412698 non-null  int64  \n",
      " 7   MachineHoursCurrentMeter  147504 non-null  float64\n",
      " 8   UsageBand                 73670 non-null   object \n",
      " 9   saledate                  412698 non-null  object \n",
      " 10  fiModelDesc               412698 non-null  object \n",
      " 11  fiBaseModel               412698 non-null  object \n",
      " 12  fiSecondaryDesc           271971 non-null  object \n",
      " 13  fiModelSeries             58667 non-null   object \n",
      " 14  fiModelDescriptor         74816 non-null   object \n",
      " 15  ProductSize               196093 non-null  object \n",
      " 16  fiProductClassDesc        412698 non-null  object \n",
      " 17  state                     412698 non-null  object \n",
      " 18  ProductGroup              412698 non-null  object \n",
      " 19  ProductGroupDesc          412698 non-null  object \n",
      " 20  Drive_System              107087 non-null  object \n",
      " 21  Enclosure                 412364 non-null  object \n",
      " 22  Forks                     197715 non-null  object \n",
      " 23  Pad_Type                  81096 non-null   object \n",
      " 24  Ride_Control              152728 non-null  object \n",
      " 25  Stick                     81096 non-null   object \n",
      " 26  Transmission              188007 non-null  object \n",
      " 27  Turbocharged              81096 non-null   object \n",
      " 28  Blade_Extension           25983 non-null   object \n",
      " 29  Blade_Width               25983 non-null   object \n",
      " 30  Enclosure_Type            25983 non-null   object \n",
      " 31  Engine_Horsepower         25983 non-null   object \n",
      " 32  Hydraulics                330133 non-null  object \n",
      " 33  Pushblock                 25983 non-null   object \n",
      " 34  Ripper                    106945 non-null  object \n",
      " 35  Scarifier                 25994 non-null   object \n",
      " 36  Tip_Control               25983 non-null   object \n",
      " 37  Tire_Size                 97638 non-null   object \n",
      " 38  Coupler                   220679 non-null  object \n",
      " 39  Coupler_System            44974 non-null   object \n",
      " 40  Grouser_Tracks            44875 non-null   object \n",
      " 41  Hydraulics_Flow           44875 non-null   object \n",
      " 42  Track_Type                102193 non-null  object \n",
      " 43  Undercarriage_Pad_Width   102916 non-null  object \n",
      " 44  Stick_Length              102261 non-null  object \n",
      " 45  Thumb                     102332 non-null  object \n",
      " 46  Pattern_Changer           102261 non-null  object \n",
      " 47  Grouser_Type              102193 non-null  object \n",
      " 48  Backhoe_Mounting          80712 non-null   object \n",
      " 49  Blade_Type                81875 non-null   object \n",
      " 50  Travel_Controls           81877 non-null   object \n",
      " 51  Differential_Type         71564 non-null   object \n",
      " 52  Steering_Controls         71522 non-null   object \n",
      "dtypes: float64(3), int64(5), object(45)\n",
      "memory usage: 166.9+ MB\n"
     ]
    }
   ],
   "source": [
    "df.info()"
   ],
   "metadata": {
    "collapsed": false,
    "ExecuteTime": {
     "end_time": "2023-06-26T17:43:23.680337Z",
     "start_time": "2023-06-26T17:43:22.626462Z"
    }
   }
  },
  {
   "cell_type": "code",
   "execution_count": 105,
   "outputs": [
    {
     "data": {
      "text/plain": "SalesID                          0\nSalePrice                        0\nMachineID                        0\nModelID                          0\ndatasource                       0\nauctioneerID                 20136\nYearMade                         0\nMachineHoursCurrentMeter    265194\nUsageBand                   339028\nsaledate                         0\nfiModelDesc                      0\nfiBaseModel                      0\nfiSecondaryDesc             140727\nfiModelSeries               354031\nfiModelDescriptor           337882\nProductSize                 216605\nfiProductClassDesc               0\nstate                            0\nProductGroup                     0\nProductGroupDesc                 0\nDrive_System                305611\nEnclosure                      334\nForks                       214983\nPad_Type                    331602\nRide_Control                259970\nStick                       331602\nTransmission                224691\nTurbocharged                331602\nBlade_Extension             386715\nBlade_Width                 386715\nEnclosure_Type              386715\nEngine_Horsepower           386715\nHydraulics                   82565\nPushblock                   386715\nRipper                      305753\nScarifier                   386704\nTip_Control                 386715\nTire_Size                   315060\nCoupler                     192019\nCoupler_System              367724\nGrouser_Tracks              367823\nHydraulics_Flow             367823\nTrack_Type                  310505\nUndercarriage_Pad_Width     309782\nStick_Length                310437\nThumb                       310366\nPattern_Changer             310437\nGrouser_Type                310505\nBackhoe_Mounting            331986\nBlade_Type                  330823\nTravel_Controls             330821\nDifferential_Type           341134\nSteering_Controls           341176\ndtype: int64"
     },
     "execution_count": 105,
     "metadata": {},
     "output_type": "execute_result"
    }
   ],
   "source": [
    "df.isna().sum()"
   ],
   "metadata": {
    "collapsed": false,
    "ExecuteTime": {
     "end_time": "2023-06-26T17:43:24.731423Z",
     "start_time": "2023-06-26T17:43:23.681160Z"
    }
   }
  },
  {
   "cell_type": "code",
   "execution_count": 106,
   "outputs": [
    {
     "data": {
      "text/plain": "<Figure size 640x480 with 1 Axes>",
      "image/png": "[encoded data removed]"
     },
     "metadata": {},
     "output_type": "display_data"
    }
   ],
   "source": [
    "df.SalePrice.plot.hist(color=\"plum\");"
   ],
   "metadata": {
    "collapsed": false,
    "ExecuteTime": {
     "end_time": "2023-06-26T17:43:24.868501Z",
     "start_time": "2023-06-26T17:43:24.731904Z"
    }
   }
  },
  {
   "cell_type": "code",
   "execution_count": 107,
   "outputs": [],
   "source": [
    "# parsing dates\n",
    "df = pd.read_csv(\"data/TrainAndValid.csv\", low_memory=False, parse_dates=[\"saledate\"])"
   ],
   "metadata": {
    "collapsed": false,
    "ExecuteTime": {
     "end_time": "2023-06-26T17:43:27.080412Z",
     "start_time": "2023-06-26T17:43:24.873052Z"
    }
   }
  },
  {
   "cell_type": "code",
   "execution_count": 108,
   "outputs": [
    {
     "data": {
      "text/plain": "dtype('<M8[ns]')"
     },
     "execution_count": 108,
     "metadata": {},
     "output_type": "execute_result"
    }
   ],
   "source": [
    "df.saledate.dtype"
   ],
   "metadata": {
    "collapsed": false,
    "ExecuteTime": {
     "end_time": "2023-06-26T17:43:27.083196Z",
     "start_time": "2023-06-26T17:43:27.081243Z"
    }
   }
  },
  {
   "cell_type": "code",
   "execution_count": 109,
   "outputs": [
    {
     "data": {
      "text/plain": "0   2006-11-16\n1   2004-03-26\n2   2004-02-26\n3   2011-05-19\n4   2009-07-23\nName: saledate, dtype: datetime64[ns]"
     },
     "execution_count": 109,
     "metadata": {},
     "output_type": "execute_result"
    }
   ],
   "source": [
    "df.saledate[:5]"
   ],
   "metadata": {
    "collapsed": false,
    "ExecuteTime": {
     "end_time": "2023-06-26T17:43:27.086108Z",
     "start_time": "2023-06-26T17:43:27.084607Z"
    }
   }
  },
  {
   "cell_type": "code",
   "execution_count": 110,
   "outputs": [
    {
     "data": {
      "text/plain": "<Figure size 640x480 with 1 Axes>",
      "image/png": "[encoded data removed]"
     },
     "metadata": {},
     "output_type": "display_data"
    }
   ],
   "source": [
    "fig, ax = plt.subplots()\n",
    "ax.scatter(df.saledate[:1000], df.SalePrice[:1000], color=\"plum\")\n",
    "plt.xlabel(\"Year\")\n",
    "plt.ylabel(\"Sale Price\");"
   ],
   "metadata": {
    "collapsed": false,
    "ExecuteTime": {
     "end_time": "2023-06-26T17:43:27.170804Z",
     "start_time": "2023-06-26T17:43:27.088441Z"
    }
   }
  },
  {
   "cell_type": "code",
   "execution_count": 111,
   "outputs": [
    {
     "data": {
      "text/plain": "   SalesID  SalePrice  MachineID  ModelID  datasource  auctioneerID  YearMade  \\\n0  1139246    66000.0     999089     3157         121           3.0      2004   \n1  1139248    57000.0     117657       77         121           3.0      1996   \n2  1139249    10000.0     434808     7009         121           3.0      2001   \n3  1139251    38500.0    1026470      332         121           3.0      2001   \n4  1139253    11000.0    1057373    17311         121           3.0      2007   \n\n   MachineHoursCurrentMeter UsageBand   saledate  ... Undercarriage_Pad_Width  \\\n0                      68.0       Low 2006-11-16  ...                     NaN   \n1                    4640.0       Low 2004-03-26  ...                     NaN   \n2                    2838.0      High 2004-02-26  ...                     NaN   \n3                    3486.0      High 2011-05-19  ...                     NaN   \n4                     722.0    Medium 2009-07-23  ...                     NaN   \n\n  Stick_Length Thumb Pattern_Changer Grouser_Type Backhoe_Mounting Blade_Type  \\\n0          NaN   NaN             NaN          NaN              NaN        NaN   \n1          NaN   NaN             NaN          NaN              NaN        NaN   \n2          NaN   NaN             NaN          NaN              NaN        NaN   \n3          NaN   NaN             NaN          NaN              NaN        NaN   \n4          NaN   NaN             NaN          NaN              NaN        NaN   \n\n  Travel_Controls Differential_Type Steering_Controls  \n0             NaN          Standard      Conventional  \n1             NaN          Standard      Conventional  \n2             NaN               NaN               NaN  \n3             NaN               NaN               NaN  \n4             NaN               NaN               NaN  \n\n[5 rows x 53 columns]",
      "text/html": "<div>\n<style scoped>\n    .dataframe tbody tr th:only-of-type {\n        vertical-align: middle;\n    }\n\n    .dataframe tbody tr th {\n        vertical-align: top;\n    }\n\n    .dataframe thead th {\n        text-align: right;\n    }\n</style>\n<table border=\"1\" class=\"dataframe\">\n  <thead>\n    <tr style=\"text-align: right;\">\n      <th></th>\n      <th>SalesID</th>\n      <th>SalePrice</th>\n      <th>MachineID</th>\n      <th>ModelID</th>\n      <th>datasource</th>\n      <th>auctioneerID</th>\n      <th>YearMade</th>\n      <th>MachineHoursCurrentMeter</th>\n      <th>UsageBand</th>\n      <th>saledate</th>\n      <th>...</th>\n      <th>Undercarriage_Pad_Width</th>\n      <th>Stick_Length</th>\n      <th>Thumb</th>\n      <th>Pattern_Changer</th>\n      <th>Grouser_Type</th>\n      <th>Backhoe_Mounting</th>\n      <th>Blade_Type</th>\n      <th>Travel_Controls</th>\n      <th>Differential_Type</th>\n      <th>Steering_Controls</th>\n    </tr>\n  </thead>\n  <tbody>\n    <tr>\n      <th>0</th>\n      <td>1139246</td>\n      <td>66000.0</td>\n      <td>999089</td>\n      <td>3157</td>\n      <td>121</td>\n      <td>3.0</td>\n      <td>2004</td>\n      <td>68.0</td>\n      <td>Low</td>\n      <td>2006-11-16</td>\n      <td>...</td>\n      <td>NaN</td>\n      <td>NaN</td>\n      <td>NaN</td>\n      <td>NaN</td>\n      <td>NaN</td>\n      <td>NaN</td>\n      <td>NaN</td>\n      <td>NaN</td>\n      <td>Standard</td>\n      <td>Conventional</td>\n    </tr>\n    <tr>\n      <th>1</th>\n      <td>1139248</td>\n      <td>57000.0</td>\n      <td>117657</td>\n      <td>77</td>\n      <td>121</td>\n      <td>3.0</td>\n      <td>1996</td>\n      <td>4640.0</td>\n      <td>Low</td>\n      <td>2004-03-26</td>\n      <td>...</td>\n      <td>NaN</td>\n      <td>NaN</td>\n      <td>NaN</td>\n      <td>NaN</td>\n      <td>NaN</td>\n      <td>NaN</td>\n      <td>NaN</td>\n      <td>NaN</td>\n      <td>Standard</td>\n      <td>Conventional</td>\n    </tr>\n    <tr>\n      <th>2</th>\n      <td>1139249</td>\n      <td>10000.0</td>\n      <td>434808</td>\n      <td>7009</td>\n      <td>121</td>\n      <td>3.0</td>\n      <td>2001</td>\n      <td>2838.0</td>\n      <td>High</td>\n      <td>2004-02-26</td>\n      <td>...</td>\n      <td>NaN</td>\n      <td>NaN</td>\n      <td>NaN</td>\n      <td>NaN</td>\n      <td>NaN</td>\n      <td>NaN</td>\n      <td>NaN</td>\n      <td>NaN</td>\n      <td>NaN</td>\n      <td>NaN</td>\n    </tr>\n    <tr>\n      <th>3</th>\n      <td>1139251</td>\n      <td>38500.0</td>\n      <td>1026470</td>\n      <td>332</td>\n      <td>121</td>\n      <td>3.0</td>\n      <td>2001</td>\n      <td>3486.0</td>\n      <td>High</td>\n      <td>2011-05-19</td>\n      <td>...</td>\n      <td>NaN</td>\n      <td>NaN</td>\n      <td>NaN</td>\n      <td>NaN</td>\n      <td>NaN</td>\n      <td>NaN</td>\n      <td>NaN</td>\n      <td>NaN</td>\n      <td>NaN</td>\n      <td>NaN</td>\n    </tr>\n    <tr>\n      <th>4</th>\n      <td>1139253</td>\n      <td>11000.0</td>\n      <td>1057373</td>\n      <td>17311</td>\n      <td>121</td>\n      <td>3.0</td>\n      <td>2007</td>\n      <td>722.0</td>\n      <td>Medium</td>\n      <td>2009-07-23</td>\n      <td>...</td>\n      <td>NaN</td>\n      <td>NaN</td>\n      <td>NaN</td>\n      <td>NaN</td>\n      <td>NaN</td>\n      <td>NaN</td>\n      <td>NaN</td>\n      <td>NaN</td>\n      <td>NaN</td>\n      <td>NaN</td>\n    </tr>\n  </tbody>\n</table>\n<p>5 rows × 53 columns</p>\n</div>"
     },
     "execution_count": 111,
     "metadata": {},
     "output_type": "execute_result"
    }
   ],
   "source": [
    "df.head()"
   ],
   "metadata": {
    "collapsed": false,
    "ExecuteTime": {
     "end_time": "2023-06-26T17:43:27.177763Z",
     "start_time": "2023-06-26T17:43:27.175811Z"
    }
   }
  },
  {
   "cell_type": "code",
   "execution_count": 112,
   "outputs": [
    {
     "data": {
      "text/plain": "205615   1989-01-17\n274835   1989-01-31\n141296   1989-01-31\n212552   1989-01-31\n62755    1989-01-31\nName: saledate, dtype: datetime64[ns]"
     },
     "execution_count": 112,
     "metadata": {},
     "output_type": "execute_result"
    }
   ],
   "source": [
    "df.sort_values(by=[\"saledate\"], inplace=True, ascending=True)\n",
    "df.saledate[:5]"
   ],
   "metadata": {
    "collapsed": false,
    "ExecuteTime": {
     "end_time": "2023-06-26T17:43:27.339357Z",
     "start_time": "2023-06-26T17:43:27.178060Z"
    }
   }
  },
  {
   "cell_type": "code",
   "execution_count": 113,
   "outputs": [
    {
     "data": {
      "text/plain": "205615   1989-01-17\n274835   1989-01-31\n141296   1989-01-31\n212552   1989-01-31\n62755    1989-01-31\nName: saledate, dtype: datetime64[ns]"
     },
     "execution_count": 113,
     "metadata": {},
     "output_type": "execute_result"
    }
   ],
   "source": [
    "df_copy = df.copy()\n",
    "df_copy.saledate[:5]"
   ],
   "metadata": {
    "collapsed": false,
    "ExecuteTime": {
     "end_time": "2023-06-26T17:43:27.446384Z",
     "start_time": "2023-06-26T17:43:27.336235Z"
    }
   }
  },
  {
   "cell_type": "markdown",
   "source": [
    "## Feature Engineering"
   ],
   "metadata": {
    "collapsed": false
   }
  },
  {
   "cell_type": "code",
   "execution_count": 114,
   "outputs": [
    {
     "data": {
      "text/plain": "205615    1989\n274835    1989\n141296    1989\n212552    1989\n62755     1989\n          ... \n410879    2012\n412476    2012\n411927    2012\n407124    2012\n409203    2012\nName: saleYear, Length: 412698, dtype: int64"
     },
     "execution_count": 114,
     "metadata": {},
     "output_type": "execute_result"
    }
   ],
   "source": [
    "df[\"saleYear\"] = df.saledate.dt.year\n",
    "df.saleYear"
   ],
   "metadata": {
    "collapsed": false,
    "ExecuteTime": {
     "end_time": "2023-06-26T17:43:27.455331Z",
     "start_time": "2023-06-26T17:43:27.447004Z"
    }
   }
  },
  {
   "cell_type": "code",
   "execution_count": 115,
   "outputs": [],
   "source": [
    "df[\"saleMonth\"] = df.saledate.dt.month\n",
    "df[\"saleDay\"] = df.saledate.dt.day\n",
    "df[\"saleDayOfWeek\"] = df.saledate.dt.dayofweek\n",
    "df[\"saleDayOfYear\"] = df.saledate.dt.dayofyear\n",
    "df[\"saleQuarter\"] = df.saledate.dt.quarter"
   ],
   "metadata": {
    "collapsed": false,
    "ExecuteTime": {
     "end_time": "2023-06-26T17:43:27.493762Z",
     "start_time": "2023-06-26T17:43:27.455905Z"
    }
   }
  },
  {
   "cell_type": "code",
   "execution_count": 116,
   "outputs": [
    {
     "data": {
      "text/plain": "        SalesID  SalePrice  MachineID  ModelID  datasource  auctioneerID  \\\n205615  1646770     9500.0    1126363     8434         132          18.0   \n274835  1821514    14000.0    1194089    10150         132          99.0   \n141296  1505138    50000.0    1473654     4139         132          99.0   \n212552  1671174    16000.0    1327630     8591         132          99.0   \n62755   1329056    22000.0    1336053     4089         132          99.0   \n\n        YearMade  MachineHoursCurrentMeter UsageBand   saledate  ...  \\\n205615      1974                       NaN       NaN 1989-01-17  ...   \n274835      1980                       NaN       NaN 1989-01-31  ...   \n141296      1978                       NaN       NaN 1989-01-31  ...   \n212552      1980                       NaN       NaN 1989-01-31  ...   \n62755       1984                       NaN       NaN 1989-01-31  ...   \n\n       Blade_Type      Travel_Controls Differential_Type Steering_Controls  \\\n205615   Straight  None or Unspecified               NaN               NaN   \n274835        NaN                  NaN          Standard      Conventional   \n141296   Straight  None or Unspecified               NaN               NaN   \n212552        NaN                  NaN          Standard      Conventional   \n62755         PAT                Lever               NaN               NaN   \n\n       saleYear saleMonth saleDay saleDayOfWeek saleDayOfYear saleQuarter  \n205615     1989         1      17             1            17           1  \n274835     1989         1      31             1            31           1  \n141296     1989         1      31             1            31           1  \n212552     1989         1      31             1            31           1  \n62755      1989         1      31             1            31           1  \n\n[5 rows x 59 columns]",
      "text/html": "<div>\n<style scoped>\n    .dataframe tbody tr th:only-of-type {\n        vertical-align: middle;\n    }\n\n    .dataframe tbody tr th {\n        vertical-align: top;\n    }\n\n    .dataframe thead th {\n        text-align: right;\n    }\n</style>\n<table border=\"1\" class=\"dataframe\">\n  <thead>\n    <tr style=\"text-align: right;\">\n      <th></th>\n      <th>SalesID</th>\n      <th>SalePrice</th>\n      <th>MachineID</th>\n      <th>ModelID</th>\n      <th>datasource</th>\n      <th>auctioneerID</th>\n      <th>YearMade</th>\n      <th>MachineHoursCurrentMeter</th>\n      <th>UsageBand</th>\n      <th>saledate</th>\n      <th>...</th>\n      <th>Blade_Type</th>\n      <th>Travel_Controls</th>\n      <th>Differential_Type</th>\n      <th>Steering_Controls</th>\n      <th>saleYear</th>\n      <th>saleMonth</th>\n      <th>saleDay</th>\n      <th>saleDayOfWeek</th>\n      <th>saleDayOfYear</th>\n      <th>saleQuarter</th>\n    </tr>\n  </thead>\n  <tbody>\n    <tr>\n      <th>205615</th>\n      <td>1646770</td>\n      <td>9500.0</td>\n      <td>1126363</td>\n      <td>8434</td>\n      <td>132</td>\n      <td>18.0</td>\n      <td>1974</td>\n      <td>NaN</td>\n      <td>NaN</td>\n      <td>1989-01-17</td>\n      <td>...</td>\n      <td>Straight</td>\n      <td>None or Unspecified</td>\n      <td>NaN</td>\n      <td>NaN</td>\n      <td>1989</td>\n      <td>1</td>\n      <td>17</td>\n      <td>1</td>\n      <td>17</td>\n      <td>1</td>\n    </tr>\n    <tr>\n      <th>274835</th>\n      <td>1821514</td>\n      <td>14000.0</td>\n      <td>1194089</td>\n      <td>10150</td>\n      <td>132</td>\n      <td>99.0</td>\n      <td>1980</td>\n      <td>NaN</td>\n      <td>NaN</td>\n      <td>1989-01-31</td>\n      <td>...</td>\n      <td>NaN</td>\n      <td>NaN</td>\n      <td>Standard</td>\n      <td>Conventional</td>\n      <td>1989</td>\n      <td>1</td>\n      <td>31</td>\n      <td>1</td>\n      <td>31</td>\n      <td>1</td>\n    </tr>\n    <tr>\n      <th>141296</th>\n      <td>1505138</td>\n      <td>50000.0</td>\n      <td>1473654</td>\n      <td>4139</td>\n      <td>132</td>\n      <td>99.0</td>\n      <td>1978</td>\n      <td>NaN</td>\n      <td>NaN</td>\n      <td>1989-01-31</td>\n      <td>...</td>\n      <td>Straight</td>\n      <td>None or Unspecified</td>\n      <td>NaN</td>\n      <td>NaN</td>\n      <td>1989</td>\n      <td>1</td>\n      <td>31</td>\n      <td>1</td>\n      <td>31</td>\n      <td>1</td>\n    </tr>\n    <tr>\n      <th>212552</th>\n      <td>1671174</td>\n      <td>16000.0</td>\n      <td>1327630</td>\n      <td>8591</td>\n      <td>132</td>\n      <td>99.0</td>\n      <td>1980</td>\n      <td>NaN</td>\n      <td>NaN</td>\n      <td>1989-01-31</td>\n      <td>...</td>\n      <td>NaN</td>\n      <td>NaN</td>\n      <td>Standard</td>\n      <td>Conventional</td>\n      <td>1989</td>\n      <td>1</td>\n      <td>31</td>\n      <td>1</td>\n      <td>31</td>\n      <td>1</td>\n    </tr>\n    <tr>\n      <th>62755</th>\n      <td>1329056</td>\n      <td>22000.0</td>\n      <td>1336053</td>\n      <td>4089</td>\n      <td>132</td>\n      <td>99.0</td>\n      <td>1984</td>\n      <td>NaN</td>\n      <td>NaN</td>\n      <td>1989-01-31</td>\n      <td>...</td>\n      <td>PAT</td>\n      <td>Lever</td>\n      <td>NaN</td>\n      <td>NaN</td>\n      <td>1989</td>\n      <td>1</td>\n      <td>31</td>\n      <td>1</td>\n      <td>31</td>\n      <td>1</td>\n    </tr>\n  </tbody>\n</table>\n<p>5 rows × 59 columns</p>\n</div>"
     },
     "execution_count": 116,
     "metadata": {},
     "output_type": "execute_result"
    }
   ],
   "source": [
    "df.head()"
   ],
   "metadata": {
    "collapsed": false,
    "ExecuteTime": {
     "end_time": "2023-06-26T17:43:27.502196Z",
     "start_time": "2023-06-26T17:43:27.500305Z"
    }
   }
  },
  {
   "cell_type": "markdown",
   "source": [
    "## Data Cleaning"
   ],
   "metadata": {
    "collapsed": false
   }
  },
  {
   "cell_type": "code",
   "execution_count": 117,
   "outputs": [
    {
     "name": "stdout",
     "output_type": "stream",
     "text": [
      "UsageBand\n",
      "fiModelDesc\n",
      "fiBaseModel\n",
      "fiSecondaryDesc\n",
      "fiModelSeries\n",
      "fiModelDescriptor\n",
      "ProductSize\n",
      "fiProductClassDesc\n",
      "state\n",
      "ProductGroup\n",
      "ProductGroupDesc\n",
      "Drive_System\n",
      "Enclosure\n",
      "Forks\n",
      "Pad_Type\n",
      "Ride_Control\n",
      "Stick\n",
      "Transmission\n",
      "Turbocharged\n",
      "Blade_Extension\n",
      "Blade_Width\n",
      "Enclosure_Type\n",
      "Engine_Horsepower\n",
      "Hydraulics\n",
      "Pushblock\n",
      "Ripper\n",
      "Scarifier\n",
      "Tip_Control\n",
      "Tire_Size\n",
      "Coupler\n",
      "Coupler_System\n",
      "Grouser_Tracks\n",
      "Hydraulics_Flow\n",
      "Track_Type\n",
      "Undercarriage_Pad_Width\n",
      "Stick_Length\n",
      "Thumb\n",
      "Pattern_Changer\n",
      "Grouser_Type\n",
      "Backhoe_Mounting\n",
      "Blade_Type\n",
      "Travel_Controls\n",
      "Differential_Type\n",
      "Steering_Controls\n"
     ]
    }
   ],
   "source": [
    "for label, content in df.items():\n",
    "    if pd.api.types.is_string_dtype(content):\n",
    "        print(label)"
   ],
   "metadata": {
    "collapsed": false,
    "ExecuteTime": {
     "end_time": "2023-06-26T17:43:27.505094Z",
     "start_time": "2023-06-26T17:43:27.503587Z"
    }
   }
  },
  {
   "cell_type": "code",
   "execution_count": 118,
   "outputs": [],
   "source": [
    "for label, content in df.items():\n",
    "    if pd.api.types.is_string_dtype(content):\n",
    "        df[label] = content.astype(\"category\").cat.as_ordered()"
   ],
   "metadata": {
    "collapsed": false,
    "ExecuteTime": {
     "end_time": "2023-06-26T17:43:29.989610Z",
     "start_time": "2023-06-26T17:43:27.514835Z"
    }
   }
  },
  {
   "cell_type": "code",
   "execution_count": 119,
   "outputs": [
    {
     "data": {
      "text/plain": "205615    43\n274835     8\n141296     8\n212552     8\n62755      8\n54653      8\n81383      8\n204924     8\n135376     8\n113390     8\ndtype: int8"
     },
     "execution_count": 119,
     "metadata": {},
     "output_type": "execute_result"
    }
   ],
   "source": [
    "df.state.cat.codes[:10]"
   ],
   "metadata": {
    "collapsed": false,
    "ExecuteTime": {
     "end_time": "2023-06-26T17:43:29.992212Z",
     "start_time": "2023-06-26T17:43:29.990410Z"
    }
   }
  },
  {
   "cell_type": "code",
   "execution_count": 120,
   "outputs": [
    {
     "data": {
      "text/plain": "205615      Texas\n274835    Florida\n141296    Florida\n212552    Florida\n62755     Florida\n54653     Florida\n81383     Florida\n204924    Florida\nName: state, dtype: category\nCategories (53, object): ['Alabama' < 'Alaska' < 'Arizona' < 'Arkansas' ... 'Washington DC' < 'West Virginia' < 'Wisconsin' < 'Wyoming']"
     },
     "execution_count": 120,
     "metadata": {},
     "output_type": "execute_result"
    }
   ],
   "source": [
    "df.state[:8]"
   ],
   "metadata": {
    "collapsed": false,
    "ExecuteTime": {
     "end_time": "2023-06-26T17:43:29.995555Z",
     "start_time": "2023-06-26T17:43:29.993501Z"
    }
   }
  },
  {
   "cell_type": "code",
   "execution_count": 121,
   "outputs": [
    {
     "data": {
      "text/plain": "SalesID                              int64\nSalePrice                          float64\nMachineID                            int64\nModelID                              int64\ndatasource                           int64\nauctioneerID                       float64\nYearMade                             int64\nMachineHoursCurrentMeter           float64\nUsageBand                         category\nsaledate                    datetime64[ns]\nfiModelDesc                       category\nfiBaseModel                       category\nfiSecondaryDesc                   category\nfiModelSeries                     category\nfiModelDescriptor                 category\nProductSize                       category\nfiProductClassDesc                category\nstate                             category\nProductGroup                      category\nProductGroupDesc                  category\nDrive_System                      category\nEnclosure                         category\nForks                             category\nPad_Type                          category\nRide_Control                      category\nStick                             category\nTransmission                      category\nTurbocharged                      category\nBlade_Extension                   category\nBlade_Width                       category\nEnclosure_Type                    category\nEngine_Horsepower                 category\nHydraulics                        category\nPushblock                         category\nRipper                            category\nScarifier                         category\nTip_Control                       category\nTire_Size                         category\nCoupler                           category\nCoupler_System                    category\nGrouser_Tracks                    category\nHydraulics_Flow                   category\nTrack_Type                        category\nUndercarriage_Pad_Width           category\nStick_Length                      category\nThumb                             category\nPattern_Changer                   category\nGrouser_Type                      category\nBackhoe_Mounting                  category\nBlade_Type                        category\nTravel_Controls                   category\nDifferential_Type                 category\nSteering_Controls                 category\nsaleYear                             int64\nsaleMonth                            int64\nsaleDay                              int64\nsaleDayOfWeek                        int64\nsaleDayOfYear                        int64\nsaleQuarter                          int64\ndtype: object"
     },
     "execution_count": 121,
     "metadata": {},
     "output_type": "execute_result"
    }
   ],
   "source": [
    "df.dtypes"
   ],
   "metadata": {
    "collapsed": false,
    "ExecuteTime": {
     "end_time": "2023-06-26T17:43:29.998782Z",
     "start_time": "2023-06-26T17:43:29.997186Z"
    }
   }
  },
  {
   "cell_type": "code",
   "execution_count": 122,
   "outputs": [
    {
     "data": {
      "text/plain": "SalesID                      0.000000\nSalePrice                    0.000000\nMachineID                    0.000000\nModelID                      0.000000\ndatasource                   0.000000\nauctioneerID                 4.879113\nYearMade                     0.000000\nMachineHoursCurrentMeter    64.258610\nUsageBand                   82.149174\nsaledate                     0.000000\nfiModelDesc                  0.000000\nfiBaseModel                  0.000000\nfiSecondaryDesc             34.099269\nfiModelSeries               85.784520\nfiModelDescriptor           81.871490\nProductSize                 52.485110\nfiProductClassDesc           0.000000\nstate                        0.000000\nProductGroup                 0.000000\nProductGroupDesc             0.000000\nDrive_System                74.051970\nEnclosure                    0.080931\nForks                       52.092087\nPad_Type                    80.349796\nRide_Control                62.992794\nStick                       80.349796\nTransmission                54.444412\nTurbocharged                80.349796\nBlade_Extension             93.704113\nBlade_Width                 93.704113\nEnclosure_Type              93.704113\nEngine_Horsepower           93.704113\nHydraulics                  20.006155\nPushblock                   93.704113\nRipper                      74.086378\nScarifier                   93.701448\nTip_Control                 93.704113\nTire_Size                   76.341538\nCoupler                     46.527727\nCoupler_System              89.102443\nGrouser_Tracks              89.126431\nHydraulics_Flow             89.126431\nTrack_Type                  75.237825\nUndercarriage_Pad_Width     75.062637\nStick_Length                75.221348\nThumb                       75.204144\nPattern_Changer             75.221348\nGrouser_Type                75.237825\nBackhoe_Mounting            80.442842\nBlade_Type                  80.161038\nTravel_Controls             80.160553\nDifferential_Type           82.659475\nSteering_Controls           82.669652\nsaleYear                     0.000000\nsaleMonth                    0.000000\nsaleDay                      0.000000\nsaleDayOfWeek                0.000000\nsaleDayOfYear                0.000000\nsaleQuarter                  0.000000\ndtype: float64"
     },
     "execution_count": 122,
     "metadata": {},
     "output_type": "execute_result"
    }
   ],
   "source": [
    "df.isna().sum()/len(df)*100"
   ],
   "metadata": {
    "collapsed": false,
    "ExecuteTime": {
     "end_time": "2023-06-26T17:43:30.025261Z",
     "start_time": "2023-06-26T17:43:29.999334Z"
    }
   }
  },
  {
   "cell_type": "code",
   "execution_count": 123,
   "outputs": [],
   "source": [
    "df.to_csv(\"data/train_tmp.csv\", index=False)"
   ],
   "metadata": {
    "collapsed": false,
    "ExecuteTime": {
     "end_time": "2023-06-26T17:43:32.353953Z",
     "start_time": "2023-06-26T17:43:30.016893Z"
    }
   }
  },
  {
   "cell_type": "code",
   "execution_count": 124,
   "outputs": [],
   "source": [
    "df = pd.read_csv(\"data/train_tmp.csv\", low_memory=False)"
   ],
   "metadata": {
    "collapsed": false,
    "ExecuteTime": {
     "end_time": "2023-06-26T17:43:34.267298Z",
     "start_time": "2023-06-26T17:43:32.354172Z"
    }
   }
  },
  {
   "cell_type": "code",
   "execution_count": 125,
   "outputs": [
    {
     "data": {
      "text/plain": "   SalesID  SalePrice  MachineID  ModelID  datasource  auctioneerID  YearMade  \\\n0  1646770     9500.0    1126363     8434         132          18.0      1974   \n1  1821514    14000.0    1194089    10150         132          99.0      1980   \n2  1505138    50000.0    1473654     4139         132          99.0      1978   \n3  1671174    16000.0    1327630     8591         132          99.0      1980   \n4  1329056    22000.0    1336053     4089         132          99.0      1984   \n\n   MachineHoursCurrentMeter UsageBand fiModelDesc  ... Blade_Type  \\\n0                       NaN       NaN        TD20  ...   Straight   \n1                       NaN       NaN         A66  ...        NaN   \n2                       NaN       NaN         D7G  ...   Straight   \n3                       NaN       NaN         A62  ...        NaN   \n4                       NaN       NaN         D3B  ...        PAT   \n\n       Travel_Controls Differential_Type Steering_Controls saleYear saleMonth  \\\n0  None or Unspecified               NaN               NaN     1989         1   \n1                  NaN          Standard      Conventional     1989         1   \n2  None or Unspecified               NaN               NaN     1989         1   \n3                  NaN          Standard      Conventional     1989         1   \n4                Lever               NaN               NaN     1989         1   \n\n  saleDay saleDayOfWeek saleDayOfYear saleQuarter  \n0      17             1            17           1  \n1      31             1            31           1  \n2      31             1            31           1  \n3      31             1            31           1  \n4      31             1            31           1  \n\n[5 rows x 58 columns]",
      "text/html": "<div>\n<style scoped>\n    .dataframe tbody tr th:only-of-type {\n        vertical-align: middle;\n    }\n\n    .dataframe tbody tr th {\n        vertical-align: top;\n    }\n\n    .dataframe thead th {\n        text-align: right;\n    }\n</style>\n<table border=\"1\" class=\"dataframe\">\n  <thead>\n    <tr style=\"text-align: right;\">\n      <th></th>\n      <th>SalesID</th>\n      <th>SalePrice</th>\n      <th>MachineID</th>\n      <th>ModelID</th>\n      <th>datasource</th>\n      <th>auctioneerID</th>\n      <th>YearMade</th>\n      <th>MachineHoursCurrentMeter</th>\n      <th>UsageBand</th>\n      <th>fiModelDesc</th>\n      <th>...</th>\n      <th>Blade_Type</th>\n      <th>Travel_Controls</th>\n      <th>Differential_Type</th>\n      <th>Steering_Controls</th>\n      <th>saleYear</th>\n      <th>saleMonth</th>\n      <th>saleDay</th>\n      <th>saleDayOfWeek</th>\n      <th>saleDayOfYear</th>\n      <th>saleQuarter</th>\n    </tr>\n  </thead>\n  <tbody>\n    <tr>\n      <th>0</th>\n      <td>1646770</td>\n      <td>9500.0</td>\n      <td>1126363</td>\n      <td>8434</td>\n      <td>132</td>\n      <td>18.0</td>\n      <td>1974</td>\n      <td>NaN</td>\n      <td>NaN</td>\n      <td>TD20</td>\n      <td>...</td>\n      <td>Straight</td>\n      <td>None or Unspecified</td>\n      <td>NaN</td>\n      <td>NaN</td>\n      <td>1989</td>\n      <td>1</td>\n      <td>17</td>\n      <td>1</td>\n      <td>17</td>\n      <td>1</td>\n    </tr>\n    <tr>\n      <th>1</th>\n      <td>1821514</td>\n      <td>14000.0</td>\n      <td>1194089</td>\n      <td>10150</td>\n      <td>132</td>\n      <td>99.0</td>\n      <td>1980</td>\n      <td>NaN</td>\n      <td>NaN</td>\n      <td>A66</td>\n      <td>...</td>\n      <td>NaN</td>\n      <td>NaN</td>\n      <td>Standard</td>\n      <td>Conventional</td>\n      <td>1989</td>\n      <td>1</td>\n      <td>31</td>\n      <td>1</td>\n      <td>31</td>\n      <td>1</td>\n    </tr>\n    <tr>\n      <th>2</th>\n      <td>1505138</td>\n      <td>50000.0</td>\n      <td>1473654</td>\n      <td>4139</td>\n      <td>132</td>\n      <td>99.0</td>\n      <td>1978</td>\n      <td>NaN</td>\n      <td>NaN</td>\n      <td>D7G</td>\n      <td>...</td>\n      <td>Straight</td>\n      <td>None or Unspecified</td>\n      <td>NaN</td>\n      <td>NaN</td>\n      <td>1989</td>\n      <td>1</td>\n      <td>31</td>\n      <td>1</td>\n      <td>31</td>\n      <td>1</td>\n    </tr>\n    <tr>\n      <th>3</th>\n      <td>1671174</td>\n      <td>16000.0</td>\n      <td>1327630</td>\n      <td>8591</td>\n      <td>132</td>\n      <td>99.0</td>\n      <td>1980</td>\n      <td>NaN</td>\n      <td>NaN</td>\n      <td>A62</td>\n      <td>...</td>\n      <td>NaN</td>\n      <td>NaN</td>\n      <td>Standard</td>\n      <td>Conventional</td>\n      <td>1989</td>\n      <td>1</td>\n      <td>31</td>\n      <td>1</td>\n      <td>31</td>\n      <td>1</td>\n    </tr>\n    <tr>\n      <th>4</th>\n      <td>1329056</td>\n      <td>22000.0</td>\n      <td>1336053</td>\n      <td>4089</td>\n      <td>132</td>\n      <td>99.0</td>\n      <td>1984</td>\n      <td>NaN</td>\n      <td>NaN</td>\n      <td>D3B</td>\n      <td>...</td>\n      <td>PAT</td>\n      <td>Lever</td>\n      <td>NaN</td>\n      <td>NaN</td>\n      <td>1989</td>\n      <td>1</td>\n      <td>31</td>\n      <td>1</td>\n      <td>31</td>\n      <td>1</td>\n    </tr>\n  </tbody>\n</table>\n<p>5 rows × 58 columns</p>\n</div>"
     },
     "execution_count": 125,
     "metadata": {},
     "output_type": "execute_result"
    }
   ],
   "source": [
    "df.drop(\"saledate\", axis=1, inplace=True)\n",
    "df.head()"
   ],
   "metadata": {
    "collapsed": false,
    "ExecuteTime": {
     "end_time": "2023-06-26T17:43:34.398986Z",
     "start_time": "2023-06-26T17:43:34.273348Z"
    }
   }
  },
  {
   "cell_type": "code",
   "execution_count": 126,
   "outputs": [
    {
     "name": "stdout",
     "output_type": "stream",
     "text": [
      "auctioneerID\n",
      "MachineHoursCurrentMeter\n"
     ]
    }
   ],
   "source": [
    "for label, content in df.items():\n",
    "    if pd.api.types.is_numeric_dtype(content):\n",
    "        if pd.isna(content).sum():\n",
    "            print(label)"
   ],
   "metadata": {
    "collapsed": false,
    "ExecuteTime": {
     "end_time": "2023-06-26T17:43:34.404068Z",
     "start_time": "2023-06-26T17:43:34.398553Z"
    }
   }
  },
  {
   "cell_type": "code",
   "execution_count": 127,
   "outputs": [],
   "source": [
    "for label, content in df.items():\n",
    "    if pd.api.types.is_numeric_dtype(content):\n",
    "        if pd.isna(content).sum():\n",
    "            df[label+\"_is_missing\"] = pd.isna(content)\n",
    "            df[label] = content.fillna(content.median())"
   ],
   "metadata": {
    "collapsed": false,
    "ExecuteTime": {
     "end_time": "2023-06-26T17:43:34.418975Z",
     "start_time": "2023-06-26T17:43:34.404953Z"
    }
   }
  },
  {
   "cell_type": "code",
   "execution_count": 128,
   "outputs": [],
   "source": [
    "for label, content in df.items():\n",
    "    if pd.api.types.is_numeric_dtype(content):\n",
    "        if pd.isna(content).sum():\n",
    "            print(label)"
   ],
   "metadata": {
    "collapsed": false,
    "ExecuteTime": {
     "end_time": "2023-06-26T17:43:34.442438Z",
     "start_time": "2023-06-26T17:43:34.419803Z"
    }
   }
  },
  {
   "cell_type": "code",
   "execution_count": 129,
   "outputs": [
    {
     "data": {
      "text/plain": "SalesID                                 0.000000\nSalePrice                               0.000000\nMachineID                               0.000000\nModelID                                 0.000000\ndatasource                              0.000000\nauctioneerID                            0.000000\nYearMade                                0.000000\nMachineHoursCurrentMeter                0.000000\nUsageBand                              82.149174\nfiModelDesc                             0.000000\nfiBaseModel                             0.000000\nfiSecondaryDesc                        34.099269\nfiModelSeries                          85.784520\nfiModelDescriptor                      81.871490\nProductSize                            52.485110\nfiProductClassDesc                      0.000000\nstate                                   0.000000\nProductGroup                            0.000000\nProductGroupDesc                        0.000000\nDrive_System                           74.051970\nEnclosure                               0.080931\nForks                                  52.092087\nPad_Type                               80.349796\nRide_Control                           62.992794\nStick                                  80.349796\nTransmission                           54.444412\nTurbocharged                           80.349796\nBlade_Extension                        93.704113\nBlade_Width                            93.704113\nEnclosure_Type                         93.704113\nEngine_Horsepower                      93.704113\nHydraulics                             20.006155\nPushblock                              93.704113\nRipper                                 74.086378\nScarifier                              93.701448\nTip_Control                            93.704113\nTire_Size                              76.341538\nCoupler                                46.527727\nCoupler_System                         89.102443\nGrouser_Tracks                         89.126431\nHydraulics_Flow                        89.126431\nTrack_Type                             75.237825\nUndercarriage_Pad_Width                75.062637\nStick_Length                           75.221348\nThumb                                  75.204144\nPattern_Changer                        75.221348\nGrouser_Type                           75.237825\nBackhoe_Mounting                       80.442842\nBlade_Type                             80.161038\nTravel_Controls                        80.160553\nDifferential_Type                      82.659475\nSteering_Controls                      82.669652\nsaleYear                                0.000000\nsaleMonth                               0.000000\nsaleDay                                 0.000000\nsaleDayOfWeek                           0.000000\nsaleDayOfYear                           0.000000\nsaleQuarter                             0.000000\nauctioneerID_is_missing                 0.000000\nMachineHoursCurrentMeter_is_missing     0.000000\ndtype: float64"
     },
     "execution_count": 129,
     "metadata": {},
     "output_type": "execute_result"
    }
   ],
   "source": [
    "df.isna().sum()/len(df)*100"
   ],
   "metadata": {
    "collapsed": false,
    "ExecuteTime": {
     "end_time": "2023-06-26T17:43:35.501078Z",
     "start_time": "2023-06-26T17:43:34.426266Z"
    }
   }
  },
  {
   "cell_type": "code",
   "execution_count": 130,
   "outputs": [
    {
     "data": {
      "text/plain": "False    392562\nTrue      20136\nName: auctioneerID_is_missing, dtype: int64"
     },
     "execution_count": 130,
     "metadata": {},
     "output_type": "execute_result"
    }
   ],
   "source": [
    "df.auctioneerID_is_missing.value_counts()"
   ],
   "metadata": {
    "collapsed": false,
    "ExecuteTime": {
     "end_time": "2023-06-26T17:43:35.504727Z",
     "start_time": "2023-06-26T17:43:35.502728Z"
    }
   }
  },
  {
   "cell_type": "code",
   "execution_count": 131,
   "outputs": [
    {
     "data": {
      "text/plain": "SalesID                                     0\nSalePrice                                   0\nMachineID                                   0\nModelID                                     0\ndatasource                                  0\nauctioneerID                                0\nYearMade                                    0\nMachineHoursCurrentMeter                    0\nUsageBand                              339028\nfiModelDesc                                 0\nfiBaseModel                                 0\nfiSecondaryDesc                        140727\nfiModelSeries                          354031\nfiModelDescriptor                      337882\nProductSize                            216605\nfiProductClassDesc                          0\nstate                                       0\nProductGroup                                0\nProductGroupDesc                            0\nDrive_System                           305611\nEnclosure                                 334\nForks                                  214983\nPad_Type                               331602\nRide_Control                           259970\nStick                                  331602\nTransmission                           224691\nTurbocharged                           331602\nBlade_Extension                        386715\nBlade_Width                            386715\nEnclosure_Type                         386715\nEngine_Horsepower                      386715\nHydraulics                              82565\nPushblock                              386715\nRipper                                 305753\nScarifier                              386704\nTip_Control                            386715\nTire_Size                              315060\nCoupler                                192019\nCoupler_System                         367724\nGrouser_Tracks                         367823\nHydraulics_Flow                        367823\nTrack_Type                             310505\nUndercarriage_Pad_Width                309782\nStick_Length                           310437\nThumb                                  310366\nPattern_Changer                        310437\nGrouser_Type                           310505\nBackhoe_Mounting                       331986\nBlade_Type                             330823\nTravel_Controls                        330821\nDifferential_Type                      341134\nSteering_Controls                      341176\nsaleYear                                    0\nsaleMonth                                   0\nsaleDay                                     0\nsaleDayOfWeek                               0\nsaleDayOfYear                               0\nsaleQuarter                                 0\nauctioneerID_is_missing                     0\nMachineHoursCurrentMeter_is_missing         0\ndtype: int64"
     },
     "execution_count": 131,
     "metadata": {},
     "output_type": "execute_result"
    }
   ],
   "source": [
    "df.isna().sum()"
   ],
   "metadata": {
    "collapsed": false,
    "ExecuteTime": {
     "end_time": "2023-06-26T17:43:36.532066Z",
     "start_time": "2023-06-26T17:43:35.505408Z"
    }
   }
  },
  {
   "cell_type": "code",
   "execution_count": 132,
   "outputs": [
    {
     "name": "stdout",
     "output_type": "stream",
     "text": [
      "UsageBand\n",
      "fiSecondaryDesc\n",
      "fiModelSeries\n",
      "fiModelDescriptor\n",
      "ProductSize\n",
      "Drive_System\n",
      "Enclosure\n",
      "Forks\n",
      "Pad_Type\n",
      "Ride_Control\n",
      "Stick\n",
      "Transmission\n",
      "Turbocharged\n",
      "Blade_Extension\n",
      "Blade_Width\n",
      "Enclosure_Type\n",
      "Engine_Horsepower\n",
      "Hydraulics\n",
      "Pushblock\n",
      "Ripper\n",
      "Scarifier\n",
      "Tip_Control\n",
      "Tire_Size\n",
      "Coupler\n",
      "Coupler_System\n",
      "Grouser_Tracks\n",
      "Hydraulics_Flow\n",
      "Track_Type\n",
      "Undercarriage_Pad_Width\n",
      "Stick_Length\n",
      "Thumb\n",
      "Pattern_Changer\n",
      "Grouser_Type\n",
      "Backhoe_Mounting\n",
      "Blade_Type\n",
      "Travel_Controls\n",
      "Differential_Type\n",
      "Steering_Controls\n"
     ]
    }
   ],
   "source": [
    "for label, content in df.items():\n",
    "    if not pd.api.types.is_numeric_dtype(content):\n",
    "        if pd.isna(content).sum():\n",
    "            print(label)"
   ],
   "metadata": {
    "collapsed": false,
    "ExecuteTime": {
     "end_time": "2023-06-26T17:43:36.846353Z",
     "start_time": "2023-06-26T17:43:36.539032Z"
    }
   }
  },
  {
   "cell_type": "code",
   "execution_count": 133,
   "outputs": [],
   "source": [
    "for label, content in df.items():\n",
    "    if not pd.api.types.is_numeric_dtype(content):\n",
    "        if pd.isna(content).sum():\n",
    "            df[label+\"_is_missing\"] = pd.isna(content)\n",
    "            df[label] = pd.Categorical(content).codes + 1 # we add 1 because the code for missing categorical value is -1\n",
    "        else:\n",
    "            df[label] = pd.Categorical(content).codes"
   ],
   "metadata": {
    "collapsed": false,
    "ExecuteTime": {
     "end_time": "2023-06-26T17:43:39.873391Z",
     "start_time": "2023-06-26T17:43:36.853771Z"
    }
   }
  },
  {
   "cell_type": "code",
   "execution_count": 134,
   "outputs": [
    {
     "data": {
      "text/plain": "SalesID                         0\nSalePrice                       0\nMachineID                       0\nModelID                         0\ndatasource                      0\n                               ..\nBackhoe_Mounting_is_missing     0\nBlade_Type_is_missing           0\nTravel_Controls_is_missing      0\nDifferential_Type_is_missing    0\nSteering_Controls_is_missing    0\nLength: 98, dtype: int64"
     },
     "execution_count": 134,
     "metadata": {},
     "output_type": "execute_result"
    }
   ],
   "source": [
    "df.isna().sum()"
   ],
   "metadata": {
    "collapsed": false,
    "ExecuteTime": {
     "end_time": "2023-06-26T17:43:39.899283Z",
     "start_time": "2023-06-26T17:43:39.873646Z"
    }
   }
  },
  {
   "cell_type": "markdown",
   "source": [
    "## Modelling"
   ],
   "metadata": {
    "collapsed": false
   }
  },
  {
   "cell_type": "code",
   "execution_count": 135,
   "outputs": [
    {
     "name": "stdout",
     "output_type": "stream",
     "text": [
      "CPU times: user 8min 53s, sys: 3.94 s, total: 8min 57s\n",
      "Wall time: 1min 1s\n"
     ]
    },
    {
     "data": {
      "text/plain": "RandomForestRegressor(n_jobs=-1, random_state=8)",
      "text/html": "<style>#sk-container-id-1 {color: black;background-color: white;}#sk-container-id-1 pre{padding: 0;}#sk-container-id-1 div.sk-toggleable {background-color: white;}#sk-container-id-1 label.sk-toggleable__label {cursor: pointer;display: block;width: 100%;margin-bottom: 0;padding: 0.3em;box-sizing: border-box;text-align: center;}#sk-container-id-1 label.sk-toggleable__label-arrow:before {content: \"▸\";float: left;margin-right: 0.25em;color: #696969;}#sk-container-id-1 label.sk-toggleable__label-arrow:hover:before {color: black;}#sk-container-id-1 div.sk-estimator:hover label.sk-toggleable__label-arrow:before {color: black;}#sk-container-id-1 div.sk-toggleable__content {max-height: 0;max-width: 0;overflow: hidden;text-align: left;background-color: #f0f8ff;}#sk-container-id-1 div.sk-toggleable__content pre {margin: 0.2em;color: black;border-radius: 0.25em;background-color: #f0f8ff;}#sk-container-id-1 input.sk-toggleable__control:checked~div.sk-toggleable__content {max-height: 200px;max-width: 100%;overflow: auto;}#sk-container-id-1 input.sk-toggleable__control:checked~label.sk-toggleable__label-arrow:before {content: \"▾\";}#sk-container-id-1 div.sk-estimator input.sk-toggleable__control:checked~label.sk-toggleable__label {background-color: #d4ebff;}#sk-container-id-1 div.sk-label input.sk-toggleable__control:checked~label.sk-toggleable__label {background-color: #d4ebff;}#sk-container-id-1 input.sk-hidden--visually {border: 0;clip: rect(1px 1px 1px 1px);clip: rect(1px, 1px, 1px, 1px);height: 1px;margin: -1px;overflow: hidden;padding: 0;position: absolute;width: 1px;}#sk-container-id-1 div.sk-estimator {font-family: monospace;background-color: #f0f8ff;border: 1px dotted black;border-radius: 0.25em;box-sizing: border-box;margin-bottom: 0.5em;}#sk-container-id-1 div.sk-estimator:hover {background-color: #d4ebff;}#sk-container-id-1 div.sk-parallel-item::after {content: \"\";width: 100%;border-bottom: 1px solid gray;flex-grow: 1;}#sk-container-id-1 div.sk-label:hover label.sk-toggleable__label {background-color: #d4ebff;}#sk-container-id-1 div.sk-serial::before {content: \"\";position: absolute;border-left: 1px solid gray;box-sizing: border-box;top: 0;bottom: 0;left: 50%;z-index: 0;}#sk-container-id-1 div.sk-serial {display: flex;flex-direction: column;align-items: center;background-color: white;padding-right: 0.2em;padding-left: 0.2em;position: relative;}#sk-container-id-1 div.sk-item {position: relative;z-index: 1;}#sk-container-id-1 div.sk-parallel {display: flex;align-items: stretch;justify-content: center;background-color: white;position: relative;}#sk-container-id-1 div.sk-item::before, #sk-container-id-1 div.sk-parallel-item::before {content: \"\";position: absolute;border-left: 1px solid gray;box-sizing: border-box;top: 0;bottom: 0;left: 50%;z-index: -1;}#sk-container-id-1 div.sk-parallel-item {display: flex;flex-direction: column;z-index: 1;position: relative;background-color: white;}#sk-container-id-1 div.sk-parallel-item:first-child::after {align-self: flex-end;width: 50%;}#sk-container-id-1 div.sk-parallel-item:last-child::after {align-self: flex-start;width: 50%;}#sk-container-id-1 div.sk-parallel-item:only-child::after {width: 0;}#sk-container-id-1 div.sk-dashed-wrapped {border: 1px dashed gray;margin: 0 0.4em 0.5em 0.4em;box-sizing: border-box;padding-bottom: 0.4em;background-color: white;}#sk-container-id-1 div.sk-label label {font-family: monospace;font-weight: bold;display: inline-block;line-height: 1.2em;}#sk-container-id-1 div.sk-label-container {text-align: center;}#sk-container-id-1 div.sk-container {/* jupyter's `normalize.less` sets `[hidden] { display: none; }` but bootstrap.min.css set `[hidden] { display: none !important; }` so we also need the `!important` here to be able to override the default hidden behavior on the sphinx rendered scikit-learn.org. See: https://github.com/scikit-learn/scikit-learn/issues/21755 */display: inline-block !important;position: relative;}#sk-container-id-1 div.sk-text-repr-fallback {display: none;}</style><div id=\"sk-container-id-1\" class=\"sk-top-container\"><div class=\"sk-text-repr-fallback\"><pre>RandomForestRegressor(n_jobs=-1, random_state=8)</pre><b>In a Jupyter environment, please rerun this cell to show the HTML representation or trust the notebook. <br />On GitHub, the HTML representation is unable to render, please try loading this page with nbviewer.org.</b></div><div class=\"sk-container\" hidden><div class=\"sk-item\"><div class=\"sk-estimator sk-toggleable\"><input class=\"sk-toggleable__control sk-hidden--visually\" id=\"sk-estimator-id-1\" type=\"checkbox\" checked><label for=\"sk-estimator-id-1\" class=\"sk-toggleable__label sk-toggleable__label-arrow\">RandomForestRegressor</label><div class=\"sk-toggleable__content\"><pre>RandomForestRegressor(n_jobs=-1, random_state=8)</pre></div></div></div></div></div>"
     },
     "execution_count": 135,
     "metadata": {},
     "output_type": "execute_result"
    }
   ],
   "source": [
    "%%time\n",
    "model = RandomForestRegressor(n_jobs=-1, random_state=8)\n",
    "\n",
    "model.fit(df.drop(\"SalePrice\", axis=1), df[\"SalePrice\"])"
   ],
   "metadata": {
    "collapsed": false,
    "ExecuteTime": {
     "end_time": "2023-06-26T17:44:45.796412Z",
     "start_time": "2023-06-26T17:43:44.312803Z"
    }
   }
  },
  {
   "cell_type": "code",
   "execution_count": null,
   "outputs": [],
   "source": [],
   "metadata": {
    "collapsed": false
   }
  }
 ],
 "metadata": {
  "kernelspec": {
   "display_name": "Python 3",
   "language": "python",
   "name": "python3"
  },
  "language_info": {
   "codemirror_mode": {
    "name": "ipython",
    "version": 2
   },
   "file_extension": ".py",
   "mimetype": "text/x-python",
   "name": "python",
   "nbconvert_exporter": "python",
   "pygments_lexer": "ipython2",
   "version": "2.7.6"
  }
 },
 "nbformat": 4,
 "nbformat_minor": 0
}
